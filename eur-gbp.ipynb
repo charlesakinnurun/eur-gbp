{
 "cells": [
  {
   "cell_type": "markdown",
   "id": "a1445a08",
   "metadata": {},
   "source": [
    "Import the neccessary libraries"
   ]
  },
  {
   "cell_type": "code",
   "execution_count": 2,
   "id": "802db825",
   "metadata": {},
   "outputs": [],
   "source": [
    "import pandas as pd\n",
    "import numpy as np\n",
    "import matplotlib.pyplot as plt\n",
    "from sklearn.model_selection import train_test_split\n",
    "from sklearn.linear_model import LinearRegression\n",
    "from sklearn.ensemble import GradientBoostingRegressor\n",
    "from sklearn.metrics import mean_squared_error,r2_score"
   ]
  },
  {
   "cell_type": "markdown",
   "id": "80fccce5",
   "metadata": {},
   "source": [
    "Data Loading"
   ]
  },
  {
   "cell_type": "code",
   "execution_count": 3,
   "id": "97891a37",
   "metadata": {},
   "outputs": [
    {
     "name": "stdout",
     "output_type": "stream",
     "text": [
      "Loading data from 'data.csv'.......\n",
      "Data loaded successfully\n",
      "Display the first 5 rows and information\n",
      "         date     clock  open_eurusd  high_eurusd  low_eurusd  close_eurusd  tikvol_eurusd  open_audusd  high_audusd  low_audusd  close_audusd  tikvol_audusd  open_eurgbp  high_eurgbp  low_eurgbp  close_eurgbp  tikvol_eurgbp  open_gbpusd  high_gbpusd  low_gbpusd  close_gbpusd  tikvol_gbpusd  open_nzdusd  high_nzdusd  low_nzdusd  close_nzdusd  tikvol_nzdusd  open_usdchf  high_usdchf  low_usdchf  close_usdchf  tikvol_usdchf  open_usdjpy  high_usdjpy  low_usdjpy  close_usdjpy  tikvol_usdjpy\n",
      "0  2023.04.24  00:00:00      1.09883      1.09904     1.09861       1.09863            552      0.66947      0.66968     0.66906       0.66926            422      0.88273      0.88321     0.88257       0.88267            373      1.24412      1.24442     1.24361       1.24405            328      0.61382      0.61404     0.61346       0.61381            289      1.09883      1.09904     1.09861       1.09863            552      1.09883      1.09904     1.09861       1.09863            552\n",
      "1  2023.04.24  01:00:00      1.09868      1.09928     1.09862       1.09921            704      0.66932      0.66967     0.66885       0.66944            903      0.88273      0.88330     0.88273       0.88318           1164      1.24389      1.24460     1.24374       1.24448           1027      0.61381      0.61417     0.61341       0.61407            647      1.09868      1.09928     1.09862       1.09921            704      1.09868      1.09928     1.09862       1.09921            704\n",
      "2  2023.04.24  02:00:00      1.09921      1.09956     1.09906       1.09913            625      0.66945      0.66971     0.66903       0.66903            859      0.88319      0.88332     0.88286       0.88300           1008      1.24447      1.24519     1.24444       1.24468            830      0.61408      0.61453     0.61401       0.61409            589      1.09921      1.09956     1.09906       1.09913            625      1.09921      1.09956     1.09906       1.09913            625\n",
      "3  2023.04.24  03:00:00      1.09913      1.09945     1.09839       1.09943           1451      0.66902      0.66948     0.66817       0.66945           2023      0.88300      0.88370     0.88289       0.88320           2576      1.24467      1.24480     1.24375       1.24476           2814      0.61406      0.61443     0.61351       0.61436           1374      1.09913      1.09945     1.09839       1.09943           1451      1.09913      1.09945     1.09839       1.09943           1451\n",
      "4  2023.04.24  04:00:00      1.09944      1.09944     1.09864       1.09869           1713      0.66944      0.66948     0.66818       0.66827           2647      0.88321      0.88329     0.88286       0.88304           3061      1.24476      1.24500     1.24409       1.24414           3109      0.61435      0.61465     0.61382       0.61388           1701      1.09944      1.09944     1.09864       1.09869           1713      1.09944      1.09944     1.09864       1.09869           1713\n",
      "<class 'pandas.core.frame.DataFrame'>\n",
      "RangeIndex: 6235 entries, 0 to 6234\n",
      "Data columns (total 37 columns):\n",
      " #   Column         Non-Null Count  Dtype  \n",
      "---  ------         --------------  -----  \n",
      " 0   date           6235 non-null   object \n",
      " 1   clock          6235 non-null   object \n",
      " 2   open_eurusd    6235 non-null   float64\n",
      " 3   high_eurusd    6235 non-null   float64\n",
      " 4   low_eurusd     6235 non-null   float64\n",
      " 5   close_eurusd   6235 non-null   float64\n",
      " 6   tikvol_eurusd  6235 non-null   int64  \n",
      " 7   open_audusd    6235 non-null   float64\n",
      " 8   high_audusd    6235 non-null   float64\n",
      " 9   low_audusd     6235 non-null   float64\n",
      " 10  close_audusd   6235 non-null   float64\n",
      " 11  tikvol_audusd  6235 non-null   int64  \n",
      " 12  open_eurgbp    6235 non-null   float64\n",
      " 13  high_eurgbp    6235 non-null   float64\n",
      " 14  low_eurgbp     6235 non-null   float64\n",
      " 15  close_eurgbp   6235 non-null   float64\n",
      " 16  tikvol_eurgbp  6235 non-null   int64  \n",
      " 17  open_gbpusd    6235 non-null   float64\n",
      " 18  high_gbpusd    6235 non-null   float64\n",
      " 19  low_gbpusd     6235 non-null   float64\n",
      " 20  close_gbpusd   6235 non-null   float64\n",
      " 21  tikvol_gbpusd  6235 non-null   int64  \n",
      " 22  open_nzdusd    6235 non-null   float64\n",
      " 23  high_nzdusd    6235 non-null   float64\n",
      " 24  low_nzdusd     6235 non-null   float64\n",
      " 25  close_nzdusd   6235 non-null   float64\n",
      " 26  tikvol_nzdusd  6235 non-null   int64  \n",
      " 27  open_usdchf    6235 non-null   float64\n",
      " 28  high_usdchf    6235 non-null   float64\n",
      " 29  low_usdchf     6235 non-null   float64\n",
      " 30  close_usdchf   6235 non-null   float64\n",
      " 31  tikvol_usdchf  6235 non-null   int64  \n",
      " 32  open_usdjpy    6235 non-null   float64\n",
      " 33  high_usdjpy    6235 non-null   float64\n",
      " 34  low_usdjpy     6235 non-null   float64\n",
      " 35  close_usdjpy   6235 non-null   float64\n",
      " 36  tikvol_usdjpy  6235 non-null   int64  \n",
      "dtypes: float64(28), int64(7), object(2)\n",
      "memory usage: 1.8+ MB\n",
      "None\n"
     ]
    }
   ],
   "source": [
    "print(\"Loading data from 'data.csv'.......\")\n",
    "try:\n",
    "    df = pd.read_csv(\"data.csv\")\n",
    "    print(\"Data loaded successfully\")\n",
    "except FileNotFoundError:\n",
    "    print(\"Error: The file 'data.csv' was not found. Please ensure it is in same directory\")\n",
    "    exit()\n",
    "\n",
    "print(\"Display the first 5 rows and information\")\n",
    "print(df.head().to_string())\n",
    "print(df.info())"
   ]
  },
  {
   "cell_type": "markdown",
   "id": "db33deef",
   "metadata": {},
   "source": [
    "Data Preprocessing and Feature Engineering"
   ]
  },
  {
   "cell_type": "code",
   "execution_count": 4,
   "id": "b6dcb887",
   "metadata": {},
   "outputs": [
    {
     "name": "stdout",
     "output_type": "stream",
     "text": [
      "Missing values\n",
      "date             0\n",
      "clock            0\n",
      "open_eurusd      0\n",
      "high_eurusd      0\n",
      "low_eurusd       0\n",
      "close_eurusd     0\n",
      "tikvol_eurusd    0\n",
      "open_audusd      0\n",
      "high_audusd      0\n",
      "low_audusd       0\n",
      "close_audusd     0\n",
      "tikvol_audusd    0\n",
      "open_eurgbp      0\n",
      "high_eurgbp      0\n",
      "low_eurgbp       0\n",
      "close_eurgbp     0\n",
      "tikvol_eurgbp    0\n",
      "open_gbpusd      0\n",
      "high_gbpusd      0\n",
      "low_gbpusd       0\n",
      "close_gbpusd     0\n",
      "tikvol_gbpusd    0\n",
      "open_nzdusd      0\n",
      "high_nzdusd      0\n",
      "low_nzdusd       0\n",
      "close_nzdusd     0\n",
      "tikvol_nzdusd    0\n",
      "open_usdchf      0\n",
      "high_usdchf      0\n",
      "low_usdchf       0\n",
      "close_usdchf     0\n",
      "tikvol_usdchf    0\n",
      "open_usdjpy      0\n",
      "high_usdjpy      0\n",
      "low_usdjpy       0\n",
      "close_usdjpy     0\n",
      "tikvol_usdjpy    0\n",
      "dtype: int64\n",
      "Duplicated values\n",
      "0\n",
      "Shape of features (X): (6235, 3)\n",
      "Shape of target (y): (6235,)\n"
     ]
    }
   ],
   "source": [
    "# we select multiple features (independent variables) and the target (dependent variable)\n",
    "\n",
    "# Check for missing values\n",
    "df_missing = df.isnull().sum()\n",
    "print(\"Missing values\")\n",
    "print(df_missing)\n",
    "\n",
    "# Check for duplicated rows\n",
    "df_duplicated = df.duplicated().sum()\n",
    "print(\"Duplicated values\")\n",
    "print(df_duplicated)\n",
    "\n",
    "# Define the features (X) and target (y)\n",
    "# We will predict the close_eurgpb using other price columns of the same currency pair\n",
    "\n",
    "X = df[[\"open_eurgbp\",\"high_eurgbp\",\"low_eurgbp\"]] # Independent variables (features)\n",
    "y = df[\"close_eurgbp\"] # Dependent variable (target)\n",
    "\n",
    "print(\"Shape of features (X):\",X.shape)\n",
    "print(\"Shape of target (y):\",y.shape)"
   ]
  },
  {
   "cell_type": "markdown",
   "id": "f327e8a6",
   "metadata": {},
   "source": [
    "Data Splitting"
   ]
  },
  {
   "cell_type": "code",
   "execution_count": 5,
   "id": "4e1a8468",
   "metadata": {},
   "outputs": [],
   "source": [
    "# We split the data into a training set and a testing set. The model learns from the \n",
    "#  training data and is then evaluated on the testig data. We'll use the 70/30 split\n",
    "\n",
    "X_train,X_test,y_train,y_test = train_test_split(X,y,test_size=0.3,random_state=42)"
   ]
  },
  {
   "cell_type": "markdown",
   "id": "ac8110fb",
   "metadata": {},
   "source": [
    "Model Training and Evaluation"
   ]
  },
  {
   "cell_type": "code",
   "execution_count": 6,
   "id": "b5118673",
   "metadata": {},
   "outputs": [
    {
     "name": "stdout",
     "output_type": "stream",
     "text": [
      "Training and Evaluating Linear Regression Model\n",
      "Linear Regression R-squared: 0.9991\n",
      "Training and Evaluating Gradient Boosting Regressor\n",
      "Gradient Boosting Regression R-squared: 0.9985275041219887\n"
     ]
    }
   ],
   "source": [
    "# We will train two models for comparision to demosnstrate why Gradient Boosting is \n",
    "# a \"best fit\" algorithm for this type of problem\n",
    "\n",
    "print(\"Training and Evaluating Linear Regression Model\")\n",
    "linear_model = LinearRegression()\n",
    "linear_model.fit(X_train,y_train)\n",
    "\n",
    "y_pred_linear = linear_model.predict(X_test)\n",
    "r2_linear = r2_score(y_test,y_pred_linear)\n",
    "print(f\"Linear Regression R-squared: {r2_linear:.4f}\")\n",
    "\n",
    "\n",
    "print(\"Training and Evaluating Gradient Boosting Regressor\")\n",
    "# The n-estimators parameter controls the number of boosting stages, and learning_rate\n",
    "# controls the contribution of each tree\n",
    "gbm_model = GradientBoostingRegressor()\n",
    "gbm_model.fit(X_train,y_train)\n",
    "\n",
    "y_pred_gbm = gbm_model.predict(X_test)\n",
    "r2_gbm = r2_score(y_test,y_pred_gbm)\n",
    "print(F'Gradient Boosting Regression R-squared: {r2_gbm}')"
   ]
  },
  {
   "cell_type": "markdown",
   "id": "de8ab4b6",
   "metadata": {},
   "source": [
    "Comparison and Conclusion"
   ]
  },
  {
   "cell_type": "code",
   "execution_count": 7,
   "id": "9ee2306b",
   "metadata": {},
   "outputs": [
    {
     "name": "stdout",
     "output_type": "stream",
     "text": [
      "Model Comparison\n",
      "Linear Regression R-squared: 0.9991076222098044\n",
      "Gradient Boosting R-squared: 0.9985275041219887\n",
      "Conclusion: The Linear Regression model was more accurate (or similiar performance), suggesting a very strong linear relationship in this dataset.\n"
     ]
    }
   ],
   "source": [
    "print(\"Model Comparison\")\n",
    "print(f\"Linear Regression R-squared: {r2_linear}\")\n",
    "print(f\"Gradient Boosting R-squared: {r2_gbm}\")\n",
    "\n",
    "if r2_gbm > r2_linear:\n",
    "    print(\"Conclusion: The Gradient Boosting Regressor model performed better due to its ablity to capture more complex relationships and correct errors iteratively.\")\n",
    "else:\n",
    "    print(\"Conclusion: The Linear Regression model was more accurate (or similiar performance), suggesting a very strong linear relationship in this dataset.\")"
   ]
  },
  {
   "cell_type": "markdown",
   "id": "8672e8d7",
   "metadata": {},
   "source": [
    "Making a New Prediction using the Linear Regression model"
   ]
  },
  {
   "cell_type": "code",
   "execution_count": 8,
   "id": "9eec7962",
   "metadata": {},
   "outputs": [
    {
     "name": "stdout",
     "output_type": "stream",
     "text": [
      "Interactive Prediction with Linear Regression Model\n",
      "Enter the following values to predict the Close price of EUR/GBP.\n",
      "For the given prices, the predicted Close price is: 5.21491\n"
     ]
    },
    {
     "name": "stderr",
     "output_type": "stream",
     "text": [
      "c:\\Users\\Dell\\AppData\\Local\\Programs\\Python\\Python313\\Lib\\site-packages\\sklearn\\utils\\validation.py:2749: UserWarning: X does not have valid feature names, but LinearRegression was fitted with feature names\n",
      "  warnings.warn(\n"
     ]
    }
   ],
   "source": [
    "# This part of the code prompts the user to input values for all features to make a prediction\n",
    "print(\"Interactive Prediction with Linear Regression Model\")\n",
    "print(\"Enter the following values to predict the Close price of EUR/GBP.\")\n",
    "\n",
    "while True:\n",
    "    try:\n",
    "        open_price_input = input(\"Enter the Open price (or type 'exit' to quit):\")\n",
    "        if open_price_input == \"exit\":\n",
    "            break\n",
    "        open_price = float(open_price_input)\n",
    "        high_price = float(input(\"Enter the High price:\"))\n",
    "        low_price = float(input(\"Enter the Low price:\"))\n",
    "\n",
    "        # We must reshape the input to a 2D array for a single sample.\n",
    "        new_prices = np.array([[open_price,high_price,low_price]])\n",
    "\n",
    "        predicted_close = linear_model.predict(new_prices)\n",
    "\n",
    "        print(f\"For the given prices, the predicted Close price is: {predicted_close[0]:.5f}\")\n",
    "    except ValueError:\n",
    "        print(\"Invalid input. Please enter valid numbers for all three fields\")"
   ]
  },
  {
   "cell_type": "markdown",
   "id": "6e2f43b0",
   "metadata": {},
   "source": [
    "Making a New Prediction using the Gradient Boosting model"
   ]
  },
  {
   "cell_type": "code",
   "execution_count": 9,
   "id": "a548912b",
   "metadata": {},
   "outputs": [
    {
     "name": "stdout",
     "output_type": "stream",
     "text": [
      "Interactive Prediction with Gradient Boosting Model\n",
      "Enter the following values to predict the Close price of EUR/GBP.\n"
     ]
    }
   ],
   "source": [
    "# This part of the code prompts the user to input values for all features to make a prediction\n",
    "print(\"Interactive Prediction with Gradient Boosting Model\")\n",
    "print(\"Enter the following values to predict the Close price of EUR/GBP.\")\n",
    "\n",
    "while True:\n",
    "    try:\n",
    "        gbm_open_price_input = input(\"Enter the Open price (or type 'exit' to quit):\")\n",
    "        if gbm_open_price_input == \"exit\":\n",
    "            break\n",
    "        gbm_open_price = float(gbm_open_price_input)\n",
    "        gbm_high_price = float(input(\"Enter the High price:\"))\n",
    "        gbm_low_price = float(input(\"Enter the Low price:\"))\n",
    "\n",
    "        # We must reshape the input to a 2D array for a single sample.\n",
    "        gbm_new_prices = np.array([[gbm_open_price,gbm_high_price,gbm_low_price]])\n",
    "\n",
    "        gbm_predicted_close = linear_model.predict(gbm_new_prices)\n",
    "\n",
    "        print(f\"For the given prices, the predicted Close price is: {gbm_predicted_close[0]:.5f}\")\n",
    "    except ValueError:\n",
    "        print(\"Invalid input. Please enter valid numbers for all three fields\")"
   ]
  }
 ],
 "metadata": {
  "kernelspec": {
   "display_name": "Python 3",
   "language": "python",
   "name": "python3"
  },
  "language_info": {
   "codemirror_mode": {
    "name": "ipython",
    "version": 3
   },
   "file_extension": ".py",
   "mimetype": "text/x-python",
   "name": "python",
   "nbconvert_exporter": "python",
   "pygments_lexer": "ipython3",
   "version": "3.13.3"
  }
 },
 "nbformat": 4,
 "nbformat_minor": 5
}
